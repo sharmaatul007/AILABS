{
 "cells": [
  {
   "cell_type": "code",
   "execution_count": 1,
   "metadata": {},
   "outputs": [],
   "source": [
    "import numpy as np\n",
    "from copy import deepcopy"
   ]
  },
  {
   "cell_type": "code",
   "execution_count": 2,
   "metadata": {},
   "outputs": [],
   "source": [
    "# helper methods\n",
    "\n",
    "def createEmptyGame():\n",
    "    return np.zeros((3,3))\n",
    "\n",
    "def emptyCells(board):\n",
    "    e = 0\n",
    "    for i in board:\n",
    "        for j in i:\n",
    "            if j==0:\n",
    "                e+=1\n",
    "    return e\n",
    "\n",
    "def noMovesLeft(board):\n",
    "    return emptyCells(board) == 0\n",
    "\n",
    "def takePlayerChoice():\n",
    "    print('1 for X, 2 for O, choose your move:')\n",
    "    z = input()\n",
    "    if z != '2' and z != '1':\n",
    "        print('invalid move :\\\\')\n",
    "        takePlayerChoice()\n",
    "    else:\n",
    "        return int(z)\n",
    "\n",
    "def takeInitialMove():\n",
    "    print('enter your first move. from 1 to 9')\n",
    "    z = input()\n",
    "    if not(z.isnumeric() and int(z)<=9):\n",
    "        print('invalid move :\\\\')\n",
    "        takeInitialMove()\n",
    "    else:\n",
    "        return int(z)\n",
    "\n",
    "def setBoard(board, place, player):\n",
    "    board[int((place-1)/3)][(place-1)%3] = player\n",
    "\n",
    "def displayGame(board):\n",
    "    # strange CLI asesthetics\n",
    "    print('\\n-------')\n",
    "    for i in board:\n",
    "        for j in i:\n",
    "            if j == 1:\n",
    "                print('X', end='|')\n",
    "            elif j == 2:\n",
    "                print('O', end='|')\n",
    "            else:\n",
    "                print('_', end='|')\n",
    "        print('\\n-------')\n",
    "def isWon(board):\n",
    "    for i in range(3):\n",
    "        # check if we're winning in nth row\n",
    "        if board[i][0] != 0 and board[i][0] == board[i][1] == board[i][2]:\n",
    "            return board[i][0]\n",
    "        # check if we're winning in nth column\n",
    "        if board[0][i] != 0 and board[0][i] == board[1][i] == board[2][i]:\n",
    "            return board[0][i]\n",
    "    if board[0][0] != 0 and board[0][0] == board[1][1] == board[2][2]:\n",
    "        return board[0][0]\n",
    "    if board[2][0] != 0 and board[2][0] == board[1][1] == board[0][2]:\n",
    "        return board[2][0]\n",
    "    return 0\n",
    "\n",
    "def _score(board):\n",
    "    s = isWon(board)\n",
    "    if s == 1:\n",
    "        return 1\n",
    "    elif s == 2:\n",
    "        return -1\n",
    "    return 0\n",
    "game = [[0,1,2], [0,1,0], [2,1,2]]\n",
    "# isWon(game)"
   ]
  },
  {
   "cell_type": "code",
   "execution_count": 5,
   "metadata": {},
   "outputs": [
    {
     "name": "stdout",
     "output_type": "stream",
     "text": [
      "enter your first move. from 1 to 9\n"
     ]
    },
    {
     "name": "stdin",
     "output_type": "stream",
     "text": [
      " 5\n"
     ]
    },
    {
     "name": "stdout",
     "output_type": "stream",
     "text": [
      "\n",
      "-------\n",
      "_|_|_|\n",
      "-------\n",
      "_|O|_|\n",
      "-------\n",
      "_|_|_|\n",
      "-------\n",
      "explored states: 15682\n",
      "\n",
      "-------\n",
      "X|_|_|\n",
      "-------\n",
      "_|O|_|\n",
      "-------\n",
      "_|_|_|\n",
      "-------\n",
      "enter your first move. from 1 to 9\n"
     ]
    },
    {
     "name": "stdin",
     "output_type": "stream",
     "text": [
      " 2\n"
     ]
    },
    {
     "name": "stdout",
     "output_type": "stream",
     "text": [
      "\n",
      "-------\n",
      "X|O|_|\n",
      "-------\n",
      "_|O|_|\n",
      "-------\n",
      "_|_|_|\n",
      "-------\n",
      "explored states: 659\n",
      "\n",
      "-------\n",
      "X|O|_|\n",
      "-------\n",
      "_|O|_|\n",
      "-------\n",
      "_|X|_|\n",
      "-------\n",
      "enter your first move. from 1 to 9\n"
     ]
    },
    {
     "name": "stdin",
     "output_type": "stream",
     "text": [
      " 4\n"
     ]
    },
    {
     "name": "stdout",
     "output_type": "stream",
     "text": [
      "\n",
      "-------\n",
      "X|O|_|\n",
      "-------\n",
      "O|O|_|\n",
      "-------\n",
      "_|X|_|\n",
      "-------\n",
      "explored states: 50\n",
      "\n",
      "-------\n",
      "X|O|_|\n",
      "-------\n",
      "O|O|X|\n",
      "-------\n",
      "_|X|_|\n",
      "-------\n",
      "enter your first move. from 1 to 9\n"
     ]
    },
    {
     "name": "stdin",
     "output_type": "stream",
     "text": [
      " 7\n"
     ]
    },
    {
     "name": "stdout",
     "output_type": "stream",
     "text": [
      "\n",
      "-------\n",
      "X|O|_|\n",
      "-------\n",
      "O|O|X|\n",
      "-------\n",
      "O|X|_|\n",
      "-------\n",
      "explored states: 4\n",
      "\n",
      "-------\n",
      "X|O|X|\n",
      "-------\n",
      "O|O|X|\n",
      "-------\n",
      "O|X|_|\n",
      "-------\n",
      "enter your first move. from 1 to 9\n"
     ]
    },
    {
     "name": "stdin",
     "output_type": "stream",
     "text": [
      " 9\n"
     ]
    },
    {
     "name": "stdout",
     "output_type": "stream",
     "text": [
      "\n",
      "-------\n",
      "X|O|X|\n",
      "-------\n",
      "O|O|X|\n",
      "-------\n",
      "O|X|O|\n",
      "-------\n",
      "Its a Tie!\n"
     ]
    }
   ],
   "source": [
    "def alphaBeta(board, depth, isMax, move, alpha, beta):\n",
    "    derived = 0\n",
    "    if isWon(board) or noMovesLeft(board):\n",
    "        return [_score(board), depth + 1, derived]\n",
    "    else:\n",
    "        tempScore = -1*np.inf if isMax else np.inf\n",
    "        tempDepth = np.inf\n",
    "        for i in range(3):\n",
    "            for j in range(3):\n",
    "                if board[i][j] == 0:\n",
    "                    newBoard = deepcopy(board)\n",
    "                    newBoard[i][j] = move\n",
    "                    newMove = 1 if move == 2 else 2\n",
    "                    score, newDepth, newDerived = alphaBeta(newBoard, depth + 1, not isMax, newMove, alpha, beta)\n",
    "                    derived+=(newDerived+1)\n",
    "                    if isMax and score>alpha:\n",
    "                        tempDepth = newDepth\n",
    "                        tempScore = score\n",
    "                        alpha = score\n",
    "                    elif not isMax and score<beta:\n",
    "                        tempScore = score\n",
    "                        tempDepth = newDepth\n",
    "                        beta = score\n",
    "                    if alpha >= beta:\n",
    "#                         print('broken')\n",
    "                        break\n",
    "        return [tempScore, tempDepth, derived]\n",
    "\n",
    "def aiMove(board, comp):\n",
    "    available = []\n",
    "    minScore = -1*np.inf\n",
    "    newI = newJ = 0\n",
    "    derived = 0\n",
    "    for i in range(3):\n",
    "        for j in range(3):\n",
    "            if board[i][j] == 0:\n",
    "                newBoard = deepcopy(board)\n",
    "                newBoard[i][j] = comp\n",
    "                isMax = comp == 2\n",
    "                player = 2 if comp == 1 else 1\n",
    "                score, newDepth, newDerived = alphaBeta(newBoard, 0, isMax, player, alpha=-np.inf, beta=np.inf)\n",
    "                derived+=(newDerived+1)\n",
    "                if score > minScore:\n",
    "                    newI = i\n",
    "                    newJ = j\n",
    "                    minScore = score    \n",
    "    print('explored states:', derived)\n",
    "    board[newI][newJ] = comp\n",
    "    \n",
    "def playGame():\n",
    "    board = createEmptyGame()\n",
    "#     board = [[2, 0, 0], [0, 0, 0], [0, 0, 0]]\n",
    "    player = 2 # takePlayerChoice()\n",
    "    comp = 2 if player == 1 else 1\n",
    "    turn = 2\n",
    "    while not(noMovesLeft(board) or isWon(board)):\n",
    "        if turn == player:\n",
    "            move = takeInitialMove()\n",
    "            setBoard(board, move, player)\n",
    "        else:\n",
    "            # AI MOVES\n",
    "            aiMove(board, comp)\n",
    "        displayGame(board)\n",
    "        turn = player if turn == comp else comp\n",
    "    if isWon(board):\n",
    "        if isWon(board) == player:\n",
    "            print('You won!!!')\n",
    "        else:\n",
    "            print('You Lost!!! Hail The Bot!')\n",
    "    else:\n",
    "        print('Its a Tie!')\n",
    "# while True:\n",
    "playGame()"
   ]
  },
  {
   "cell_type": "code",
   "execution_count": 48,
   "metadata": {},
   "outputs": [
    {
     "data": {
      "text/plain": [
       "(1, 2)"
      ]
     },
     "execution_count": 48,
     "metadata": {},
     "output_type": "execute_result"
    }
   ],
   "source": [
    "a, b = [1,2]\n",
    "a, b"
   ]
  }
 ],
 "metadata": {
  "kernelspec": {
   "display_name": "Python 3",
   "language": "python",
   "name": "python3"
  },
  "language_info": {
   "codemirror_mode": {
    "name": "ipython",
    "version": 3
   },
   "file_extension": ".py",
   "mimetype": "text/x-python",
   "name": "python",
   "nbconvert_exporter": "python",
   "pygments_lexer": "ipython3",
   "version": "3.7.1"
  }
 },
 "nbformat": 4,
 "nbformat_minor": 4
}
